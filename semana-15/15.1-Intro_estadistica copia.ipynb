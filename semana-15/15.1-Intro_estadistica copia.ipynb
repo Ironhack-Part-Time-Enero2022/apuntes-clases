{
 "cells": [
  {
   "cell_type": "markdown",
   "metadata": {
    "toc": true
   },
   "source": [
    "<h1>Table of Contents<span class=\"tocSkip\"></span></h1>\n",
    "<div class=\"toc\"><ul class=\"toc-item\"><li><span><a href=\"#Conceptos-básicos\" data-toc-modified-id=\"Conceptos-básicos-1\"><span class=\"toc-item-num\">1&nbsp;&nbsp;</span>Conceptos básicos</a></span></li><li><span><a href=\"#Tipos-de-variables\" data-toc-modified-id=\"Tipos-de-variables-2\"><span class=\"toc-item-num\">2&nbsp;&nbsp;</span>Tipos de variables</a></span></li><li><span><a href=\"#Tipos-de-distribuciones\" data-toc-modified-id=\"Tipos-de-distribuciones-3\"><span class=\"toc-item-num\">3&nbsp;&nbsp;</span>Tipos de distribuciones</a></span></li><li><span><a href=\"#Tipos-de-aprendizajes(machine-learning)\" data-toc-modified-id=\"Tipos-de-aprendizajes(machine-learning)-4\"><span class=\"toc-item-num\">4&nbsp;&nbsp;</span>Tipos de aprendizajes(<em>machine learning</em>)</a></span></li><li><span><a href=\"#Tipos-de-modelos\" data-toc-modified-id=\"Tipos-de-modelos-5\"><span class=\"toc-item-num\">5&nbsp;&nbsp;</span>Tipos de modelos</a></span></li></ul></div>"
   ]
  },
  {
   "cell_type": "code",
   "execution_count": 3,
   "metadata": {},
   "outputs": [],
   "source": [
    "import pandas as pd\n",
    "import numpy as np\n",
    "import seaborn as sns\n",
    "import matplotlib.pyplot as plt\n",
    "\n",
    "\n",
    "import warnings\n",
    "warnings.filterwarnings('ignore')"
   ]
  },
  {
   "cell_type": "markdown",
   "metadata": {},
   "source": [
    "En la clase de hoy recordaremos algunos de los conceptos básicos de estaadística. Pero lo haremos en grupos. El objetivo de la clase de hoy será: \n",
    "\n",
    "- Crearemos tres equipos de tres personas cada uno. \n",
    "\n",
    "\n",
    "- A cada grupo le asignaremos una serie de conceptos que como equipo tendréis que buscar y explicar a vuestros compañeros. \n",
    "\n",
    "\n",
    "- Algunos de los conceptos tienen sus propios métodos en Python, para esos deberéis buscar también el método correspondiente y explicar el resultado que nos da. "
   ]
  },
  {
   "cell_type": "markdown",
   "metadata": {},
   "source": [
    "Como ejemplo, usaremos el siguiente *dataset* 👇🏽"
   ]
  },
  {
   "cell_type": "code",
   "execution_count": 4,
   "metadata": {},
   "outputs": [
    {
     "data": {
      "text/html": [
       "<div>\n",
       "<style scoped>\n",
       "    .dataframe tbody tr th:only-of-type {\n",
       "        vertical-align: middle;\n",
       "    }\n",
       "\n",
       "    .dataframe tbody tr th {\n",
       "        vertical-align: top;\n",
       "    }\n",
       "\n",
       "    .dataframe thead th {\n",
       "        text-align: right;\n",
       "    }\n",
       "</style>\n",
       "<table border=\"1\" class=\"dataframe\">\n",
       "  <thead>\n",
       "    <tr style=\"text-align: right;\">\n",
       "      <th></th>\n",
       "      <th>sepal.length</th>\n",
       "      <th>sepal.width</th>\n",
       "      <th>petal.length</th>\n",
       "      <th>petal.width</th>\n",
       "      <th>variety</th>\n",
       "    </tr>\n",
       "  </thead>\n",
       "  <tbody>\n",
       "    <tr>\n",
       "      <th>0</th>\n",
       "      <td>5.1</td>\n",
       "      <td>3.5</td>\n",
       "      <td>1.4</td>\n",
       "      <td>0.2</td>\n",
       "      <td>Setosa</td>\n",
       "    </tr>\n",
       "    <tr>\n",
       "      <th>1</th>\n",
       "      <td>4.9</td>\n",
       "      <td>3.0</td>\n",
       "      <td>1.4</td>\n",
       "      <td>0.2</td>\n",
       "      <td>Setosa</td>\n",
       "    </tr>\n",
       "    <tr>\n",
       "      <th>2</th>\n",
       "      <td>4.7</td>\n",
       "      <td>3.2</td>\n",
       "      <td>1.3</td>\n",
       "      <td>0.2</td>\n",
       "      <td>Setosa</td>\n",
       "    </tr>\n",
       "    <tr>\n",
       "      <th>3</th>\n",
       "      <td>4.6</td>\n",
       "      <td>3.1</td>\n",
       "      <td>1.5</td>\n",
       "      <td>0.2</td>\n",
       "      <td>Setosa</td>\n",
       "    </tr>\n",
       "    <tr>\n",
       "      <th>4</th>\n",
       "      <td>5.0</td>\n",
       "      <td>3.6</td>\n",
       "      <td>1.4</td>\n",
       "      <td>0.2</td>\n",
       "      <td>Setosa</td>\n",
       "    </tr>\n",
       "  </tbody>\n",
       "</table>\n",
       "</div>"
      ],
      "text/plain": [
       "   sepal.length  sepal.width  petal.length  petal.width variety\n",
       "0           5.1          3.5           1.4          0.2  Setosa\n",
       "1           4.9          3.0           1.4          0.2  Setosa\n",
       "2           4.7          3.2           1.3          0.2  Setosa\n",
       "3           4.6          3.1           1.5          0.2  Setosa\n",
       "4           5.0          3.6           1.4          0.2  Setosa"
      ]
     },
     "execution_count": 4,
     "metadata": {},
     "output_type": "execute_result"
    }
   ],
   "source": [
    "df = pd.read_csv(\"data/iris.csv\", index_col = 0)\n",
    "df.head()"
   ]
  },
  {
   "cell_type": "code",
   "execution_count": 5,
   "metadata": {},
   "outputs": [
    {
     "data": {
      "text/html": [
       "<div>\n",
       "<style scoped>\n",
       "    .dataframe tbody tr th:only-of-type {\n",
       "        vertical-align: middle;\n",
       "    }\n",
       "\n",
       "    .dataframe tbody tr th {\n",
       "        vertical-align: top;\n",
       "    }\n",
       "\n",
       "    .dataframe thead th {\n",
       "        text-align: right;\n",
       "    }\n",
       "</style>\n",
       "<table border=\"1\" class=\"dataframe\">\n",
       "  <thead>\n",
       "    <tr style=\"text-align: right;\">\n",
       "      <th></th>\n",
       "      <th>sepal_length</th>\n",
       "      <th>sepal_width</th>\n",
       "      <th>petal_length</th>\n",
       "      <th>petal_width</th>\n",
       "      <th>variety</th>\n",
       "    </tr>\n",
       "  </thead>\n",
       "  <tbody>\n",
       "    <tr>\n",
       "      <th>0</th>\n",
       "      <td>5.1</td>\n",
       "      <td>3.5</td>\n",
       "      <td>1.4</td>\n",
       "      <td>0.2</td>\n",
       "      <td>Setosa</td>\n",
       "    </tr>\n",
       "    <tr>\n",
       "      <th>1</th>\n",
       "      <td>4.9</td>\n",
       "      <td>3.0</td>\n",
       "      <td>1.4</td>\n",
       "      <td>0.2</td>\n",
       "      <td>Setosa</td>\n",
       "    </tr>\n",
       "  </tbody>\n",
       "</table>\n",
       "</div>"
      ],
      "text/plain": [
       "   sepal_length  sepal_width  petal_length  petal_width variety\n",
       "0           5.1          3.5           1.4          0.2  Setosa\n",
       "1           4.9          3.0           1.4          0.2  Setosa"
      ]
     },
     "execution_count": 5,
     "metadata": {},
     "output_type": "execute_result"
    }
   ],
   "source": [
    "nuevas = {i: i.replace(\".\", \"_\") for i in df.columns}\n",
    "df = df.rename(columns = nuevas)\n",
    "df.head(2)"
   ]
  },
  {
   "cell_type": "markdown",
   "metadata": {},
   "source": [
    "# Conceptos básicos"
   ]
  },
  {
   "cell_type": "markdown",
   "metadata": {},
   "source": [
    "- `.describe()` nos ayuda a sacar los principales estadísticos de las columnas numéricas del *dataframe*. "
   ]
  },
  {
   "cell_type": "code",
   "execution_count": 6,
   "metadata": {},
   "outputs": [
    {
     "data": {
      "text/html": [
       "<div>\n",
       "<style scoped>\n",
       "    .dataframe tbody tr th:only-of-type {\n",
       "        vertical-align: middle;\n",
       "    }\n",
       "\n",
       "    .dataframe tbody tr th {\n",
       "        vertical-align: top;\n",
       "    }\n",
       "\n",
       "    .dataframe thead th {\n",
       "        text-align: right;\n",
       "    }\n",
       "</style>\n",
       "<table border=\"1\" class=\"dataframe\">\n",
       "  <thead>\n",
       "    <tr style=\"text-align: right;\">\n",
       "      <th></th>\n",
       "      <th>sepal_length</th>\n",
       "      <th>sepal_width</th>\n",
       "      <th>petal_length</th>\n",
       "      <th>petal_width</th>\n",
       "    </tr>\n",
       "  </thead>\n",
       "  <tbody>\n",
       "    <tr>\n",
       "      <th>count</th>\n",
       "      <td>150.000000</td>\n",
       "      <td>150.000000</td>\n",
       "      <td>150.000000</td>\n",
       "      <td>150.000000</td>\n",
       "    </tr>\n",
       "    <tr>\n",
       "      <th>mean</th>\n",
       "      <td>5.843333</td>\n",
       "      <td>3.057333</td>\n",
       "      <td>3.758000</td>\n",
       "      <td>1.199333</td>\n",
       "    </tr>\n",
       "    <tr>\n",
       "      <th>std</th>\n",
       "      <td>0.828066</td>\n",
       "      <td>0.435866</td>\n",
       "      <td>1.765298</td>\n",
       "      <td>0.762238</td>\n",
       "    </tr>\n",
       "    <tr>\n",
       "      <th>min</th>\n",
       "      <td>4.300000</td>\n",
       "      <td>2.000000</td>\n",
       "      <td>1.000000</td>\n",
       "      <td>0.100000</td>\n",
       "    </tr>\n",
       "    <tr>\n",
       "      <th>25%</th>\n",
       "      <td>5.100000</td>\n",
       "      <td>2.800000</td>\n",
       "      <td>1.600000</td>\n",
       "      <td>0.300000</td>\n",
       "    </tr>\n",
       "    <tr>\n",
       "      <th>50%</th>\n",
       "      <td>5.800000</td>\n",
       "      <td>3.000000</td>\n",
       "      <td>4.350000</td>\n",
       "      <td>1.300000</td>\n",
       "    </tr>\n",
       "    <tr>\n",
       "      <th>75%</th>\n",
       "      <td>6.400000</td>\n",
       "      <td>3.300000</td>\n",
       "      <td>5.100000</td>\n",
       "      <td>1.800000</td>\n",
       "    </tr>\n",
       "    <tr>\n",
       "      <th>max</th>\n",
       "      <td>7.900000</td>\n",
       "      <td>4.400000</td>\n",
       "      <td>6.900000</td>\n",
       "      <td>2.500000</td>\n",
       "    </tr>\n",
       "  </tbody>\n",
       "</table>\n",
       "</div>"
      ],
      "text/plain": [
       "       sepal_length  sepal_width  petal_length  petal_width\n",
       "count    150.000000   150.000000    150.000000   150.000000\n",
       "mean       5.843333     3.057333      3.758000     1.199333\n",
       "std        0.828066     0.435866      1.765298     0.762238\n",
       "min        4.300000     2.000000      1.000000     0.100000\n",
       "25%        5.100000     2.800000      1.600000     0.300000\n",
       "50%        5.800000     3.000000      4.350000     1.300000\n",
       "75%        6.400000     3.300000      5.100000     1.800000\n",
       "max        7.900000     4.400000      6.900000     2.500000"
      ]
     },
     "execution_count": 6,
     "metadata": {},
     "output_type": "execute_result"
    }
   ],
   "source": [
    "df.describe()"
   ]
  },
  {
   "cell_type": "markdown",
   "metadata": {},
   "source": [
    "Por defecto este método nos incluye solo las variables numéricas. Pero podemos pasarle el parámetro `include` para selec"
   ]
  },
  {
   "cell_type": "markdown",
   "metadata": {},
   "source": [
    "- **Media**: es el resultado de sumar todos los datos y dividirlo entre el número total de datos. Es una medida de tendencia central, es decir, el resultado del cálculo de una media dará un resultado ubicado en el centro de los valores con los que se ha calculado.\n"
   ]
  },
  {
   "cell_type": "code",
   "execution_count": 7,
   "metadata": {},
   "outputs": [
    {
     "data": {
      "text/html": [
       "<div>\n",
       "<style scoped>\n",
       "    .dataframe tbody tr th:only-of-type {\n",
       "        vertical-align: middle;\n",
       "    }\n",
       "\n",
       "    .dataframe tbody tr th {\n",
       "        vertical-align: top;\n",
       "    }\n",
       "\n",
       "    .dataframe thead th {\n",
       "        text-align: right;\n",
       "    }\n",
       "</style>\n",
       "<table border=\"1\" class=\"dataframe\">\n",
       "  <thead>\n",
       "    <tr style=\"text-align: right;\">\n",
       "      <th></th>\n",
       "      <th>sepal_length</th>\n",
       "      <th>sepal_width</th>\n",
       "      <th>petal_length</th>\n",
       "      <th>petal_width</th>\n",
       "    </tr>\n",
       "  </thead>\n",
       "  <tbody>\n",
       "    <tr>\n",
       "      <th>0</th>\n",
       "      <td>5.1</td>\n",
       "      <td>3.5</td>\n",
       "      <td>1.4</td>\n",
       "      <td>0.2</td>\n",
       "    </tr>\n",
       "    <tr>\n",
       "      <th>1</th>\n",
       "      <td>4.9</td>\n",
       "      <td>3.0</td>\n",
       "      <td>1.4</td>\n",
       "      <td>0.2</td>\n",
       "    </tr>\n",
       "  </tbody>\n",
       "</table>\n",
       "</div>"
      ],
      "text/plain": [
       "   sepal_length  sepal_width  petal_length  petal_width\n",
       "0           5.1          3.5           1.4          0.2\n",
       "1           4.9          3.0           1.4          0.2"
      ]
     },
     "execution_count": 7,
     "metadata": {},
     "output_type": "execute_result"
    }
   ],
   "source": [
    "numericas = df.select_dtypes(include = np.number)\n",
    "numericas.head(2)"
   ]
  },
  {
   "cell_type": "code",
   "execution_count": 8,
   "metadata": {},
   "outputs": [
    {
     "name": "stdout",
     "output_type": "stream",
     "text": [
      "La media de la columna sepal_length es: \n",
      "\n",
      "5.843333333333334\n",
      "------------------------------------\n",
      "La media de la columna sepal_width es: \n",
      "\n",
      "3.0573333333333337\n",
      "------------------------------------\n",
      "La media de la columna petal_length es: \n",
      "\n",
      "3.7580000000000005\n",
      "------------------------------------\n",
      "La media de la columna petal_width es: \n",
      "\n",
      "1.1993333333333336\n",
      "------------------------------------\n"
     ]
    }
   ],
   "source": [
    "for col in numericas:\n",
    "    print(f\"La media de la columna {col} es: \\n\")\n",
    "    print(df[col].mean())\n",
    "    print(\"------------------------------------\")"
   ]
  },
  {
   "cell_type": "code",
   "execution_count": 9,
   "metadata": {},
   "outputs": [
    {
     "name": "stdout",
     "output_type": "stream",
     "text": [
      "   valores  pesos  media_ponderada\n",
      "0        5      2              5.0\n",
      "1        7      3              7.0\n",
      "2        8      4              8.0\n",
      "3        6      1              6.0\n"
     ]
    }
   ],
   "source": [
    "import pandas as pd\n",
    "\n",
    "# Crear un DataFrame de ejemplo\n",
    "dft = pd.DataFrame({'valores': [5, 7, 8, 6], 'pesos': [2, 3, 4, 1]})\n",
    "\n",
    "# Definir una función para calcular la media ponderada\n",
    "def media_ponderada(row):\n",
    "    return (row['valores'] * row['pesos']).sum() / row['pesos'].sum()\n",
    "\n",
    "# Aplicar la función a cada fila del DataFrame\n",
    "dft['media_ponderada'] = dft.apply(media_ponderada, axis=1)\n",
    "\n",
    "# Imprimir el DataFrame resultante\n",
    "print(dft)"
   ]
  },
  {
   "cell_type": "markdown",
   "metadata": {},
   "source": [
    "- **Mediana**: es el valor que ocupa el lugar central de una lista formada por todos los datos ordenados por su valor.\n"
   ]
  },
  {
   "cell_type": "code",
   "execution_count": 6,
   "metadata": {},
   "outputs": [
    {
     "name": "stdout",
     "output_type": "stream",
     "text": [
      "La mediana de la columna sepal_length es: \n",
      "\n",
      "5.8\n",
      "------------------------------------\n",
      "La mediana de la columna sepal_width es: \n",
      "\n",
      "3.0\n",
      "------------------------------------\n",
      "La mediana de la columna petal_length es: \n",
      "\n",
      "4.35\n",
      "------------------------------------\n",
      "La mediana de la columna petal_width es: \n",
      "\n",
      "1.3\n",
      "------------------------------------\n"
     ]
    }
   ],
   "source": [
    "for col in numericas:\n",
    "    print(f\"La mediana de la columna {col} es: \\n\")\n",
    "    print(df[col].median())\n",
    "    print(\"------------------------------------\")"
   ]
  },
  {
   "cell_type": "markdown",
   "metadata": {},
   "source": [
    "- **Moda**: es el número que más veces se repite dentro de nuestros datos.\n"
   ]
  },
  {
   "cell_type": "code",
   "execution_count": 7,
   "metadata": {},
   "outputs": [
    {
     "name": "stdout",
     "output_type": "stream",
     "text": [
      "La moda de la columna sepal_length es: \n",
      "\n",
      "5.0\n",
      "------------------------------------\n",
      "La moda de la columna sepal_width es: \n",
      "\n",
      "3.0\n",
      "------------------------------------\n",
      "La moda de la columna petal_length es: \n",
      "\n",
      "1.4\n",
      "------------------------------------\n",
      "La moda de la columna petal_width es: \n",
      "\n",
      "0.2\n",
      "------------------------------------\n"
     ]
    }
   ],
   "source": [
    "for col in numericas:\n",
    "    print(f\"La moda de la columna {col} es: \\n\")\n",
    "    print(df[col].mode()[0])\n",
    "    print(\"------------------------------------\")"
   ]
  },
  {
   "cell_type": "markdown",
   "metadata": {},
   "source": [
    "- **Desviación estándar**: La desviación estándar o desviación típica es una medida que ofrece información sobre la dispersión media de una variable. La desviación estándar es siempre mayor o igual que cero.: "
   ]
  },
  {
   "cell_type": "code",
   "execution_count": 9,
   "metadata": {},
   "outputs": [
    {
     "name": "stdout",
     "output_type": "stream",
     "text": [
      "Los valores de desviación estándar para las variables numéricas son: \n",
      "\n"
     ]
    },
    {
     "data": {
      "text/plain": [
       "sepal_length    0.828066\n",
       "sepal_width     0.435866\n",
       "petal_length    1.765298\n",
       "petal_width     0.762238\n",
       "dtype: float64"
      ]
     },
     "execution_count": 9,
     "metadata": {},
     "output_type": "execute_result"
    }
   ],
   "source": [
    "print(f\"Los valores de desviación estándar para las variables numéricas son: \\n\")\n",
    "df.std()     "
   ]
  },
  {
   "cell_type": "markdown",
   "metadata": {},
   "source": [
    "- **Outliers o Valores perdidos**: Un *outlier* es una observación anormal y extrema en una muestra estadística o serie temporal de datos que puede afectar potencialmente a la estimación de los parámetros del mismo."
   ]
  },
  {
   "cell_type": "code",
   "execution_count": 10,
   "metadata": {},
   "outputs": [
    {
     "data": {
      "image/png": "[encoded data removed]",
      "text/plain": [
       "<Figure size 1440x504 with 4 Axes>"
      ]
     },
     "metadata": {
      "needs_background": "light"
     },
     "output_type": "display_data"
    }
   ],
   "source": [
    "fig, axes = plt.subplots(1, 4, figsize=(20,7))\n",
    "\n",
    "for i in range(len(numericas.columns)): \n",
    "    sns.boxplot(numericas.columns[i], data = df , ax = axes[i])   \n",
    "plt.show();\n"
   ]
  },
  {
   "cell_type": "markdown",
   "metadata": {},
   "source": [
    "- **Cuartiles**: son cada uno de los tres valores que pueden dividir un grupo de números, ordenados de menor a mayor, en cuatro partes iguales. En otras palabras, cada cuartil determina la separación entre uno y otro subgrupo, dentro de un conjunto de valores estudiados. De esta forma podremos identificar 3 cuartiles:\n",
    "\n",
    "    - Q1: representa el 25% de los datos\n",
    "\n",
    "    - Q2: los que están por debajo de este cuartil representan el 50% de los datos.\n",
    "\n",
    "    - Q3: representa el 75% de los datos."
   ]
  },
  {
   "cell_type": "code",
   "execution_count": 11,
   "metadata": {},
   "outputs": [
    {
     "name": "stdout",
     "output_type": "stream",
     "text": [
      "Los valores para las columnas numéricas del cuartil 0.25 es: \n",
      "\n",
      "sepal_length    5.1\n",
      "sepal_width     2.8\n",
      "petal_length    1.6\n",
      "petal_width     0.3\n",
      "Name: 0.25, dtype: float64\n",
      "------------------------------------------------------------------\n",
      "Los valores para las columnas numéricas del cuartil 0.5 es: \n",
      "\n",
      "sepal_length    5.80\n",
      "sepal_width     3.00\n",
      "petal_length    4.35\n",
      "petal_width     1.30\n",
      "Name: 0.5, dtype: float64\n",
      "------------------------------------------------------------------\n",
      "Los valores para las columnas numéricas del cuartil 0.75 es: \n",
      "\n",
      "sepal_length    6.4\n",
      "sepal_width     3.3\n",
      "petal_length    5.1\n",
      "petal_width     1.8\n",
      "Name: 0.75, dtype: float64\n",
      "------------------------------------------------------------------\n"
     ]
    }
   ],
   "source": [
    "cuartiles = [0.25, 0.5, 0.75]\n",
    "\n",
    "for i in cuartiles: \n",
    "    print(f\"Los valores para las columnas numéricas del cuartil {i} es: \\n\")\n",
    "    print(df.quantile(i))\n",
    "    print(\"------------------------------------------------------------------\")\n"
   ]
  },
  {
   "cell_type": "markdown",
   "metadata": {},
   "source": [
    "- **Rangos intercuartílicos**: es un medida de dispersión de un conjunto de datos que expresa la diferencia o la distancia entre el primer y el tercer cuartil.\n",
    "\n",
    "    Para calcular el rango intercuartil (IQR), lo que debemos hacer es:\n",
    "\n",
    "\n",
    "    1. Calcular el primer cuartil (Q1, 25%): es aquel en el cual el 25% de las observaciones son menores o iguales al valor del Q1.\n",
    "\n",
    "\n",
    "    2. Calcular el tercer cuartil (Q3, 75%): es aquel en el cual el 75% de las observaciones son menores o iguales al valor de Q3\n",
    "\n",
    "    3. Calcular el rango intercuartil (IQR), es la diferencia entre el Q3 y Q1\n",
    "```    \n",
    "IQR  = Q3 - Q1\n",
    "```\n",
    "\n",
    "> Todos los valores que sean menores que Q1 - 1.5IQR o mayores que Q3 + 1.5IQR serán considerados outliers.\n",
    "\n",
    "\n",
    "Para calcular los cuartiles recurriremos a la librería NumPy. En esta librería podemos encontrar los métodos:\n",
    "\n",
    "- `np.percentile`: lo usaremos cuando no tengamos `NaN` entre nuestros valores.\n",
    "\n",
    "\n",
    "- `np.nanpercentile`: lo usaremos cuando tengamos `NaN` entre nuestros valores.\n",
    "\n",
    "En ambos casos tendremos que pasarle:\n",
    "\n",
    "- La columna sobre la que queramos calcular los cuartiles\n",
    "\n",
    "\n",
    "- El cuartil que queremos calcular."
   ]
  },
  {
   "cell_type": "code",
   "execution_count": 14,
   "metadata": {},
   "outputs": [
    {
     "data": {
      "text/html": [
       "<div>\n",
       "<style scoped>\n",
       "    .dataframe tbody tr th:only-of-type {\n",
       "        vertical-align: middle;\n",
       "    }\n",
       "\n",
       "    .dataframe tbody tr th {\n",
       "        vertical-align: top;\n",
       "    }\n",
       "\n",
       "    .dataframe thead th {\n",
       "        text-align: right;\n",
       "    }\n",
       "</style>\n",
       "<table border=\"1\" class=\"dataframe\">\n",
       "  <thead>\n",
       "    <tr style=\"text-align: right;\">\n",
       "      <th></th>\n",
       "      <th>sepal_length</th>\n",
       "      <th>sepal_width</th>\n",
       "      <th>petal_length</th>\n",
       "      <th>petal_width</th>\n",
       "      <th>variety</th>\n",
       "    </tr>\n",
       "  </thead>\n",
       "  <tbody>\n",
       "    <tr>\n",
       "      <th>0</th>\n",
       "      <td>5.1</td>\n",
       "      <td>3.5</td>\n",
       "      <td>1.4</td>\n",
       "      <td>0.2</td>\n",
       "      <td>Setosa</td>\n",
       "    </tr>\n",
       "    <tr>\n",
       "      <th>1</th>\n",
       "      <td>4.9</td>\n",
       "      <td>3.0</td>\n",
       "      <td>1.4</td>\n",
       "      <td>0.2</td>\n",
       "      <td>Setosa</td>\n",
       "    </tr>\n",
       "  </tbody>\n",
       "</table>\n",
       "</div>"
      ],
      "text/plain": [
       "   sepal_length  sepal_width  petal_length  petal_width variety\n",
       "0           5.1          3.5           1.4          0.2  Setosa\n",
       "1           4.9          3.0           1.4          0.2  Setosa"
      ]
     },
     "execution_count": 14,
     "metadata": {},
     "output_type": "execute_result"
    }
   ],
   "source": [
    "df.head(2)"
   ]
  },
  {
   "cell_type": "code",
   "execution_count": 15,
   "metadata": {},
   "outputs": [
    {
     "data": {
      "text/plain": [
       "array([5.1, 5.8, 6.4])"
      ]
     },
     "execution_count": 15,
     "metadata": {},
     "output_type": "execute_result"
    }
   ],
   "source": [
    "np.percentile(df[\"sepal_length\"], [25, 50, 75])"
   ]
  },
  {
   "cell_type": "code",
   "execution_count": 16,
   "metadata": {},
   "outputs": [
    {
     "name": "stdout",
     "output_type": "stream",
     "text": [
      "Los cuartiles de la columna sepal_length es: \n",
      "\n",
      "[5.1 5.8 6.4]\n",
      "------------------------------------\n",
      "Los cuartiles de la columna sepal_width es: \n",
      "\n",
      "[2.8 3.  3.3]\n",
      "------------------------------------\n",
      "Los cuartiles de la columna petal_length es: \n",
      "\n",
      "[1.6  4.35 5.1 ]\n",
      "------------------------------------\n",
      "Los cuartiles de la columna petal_width es: \n",
      "\n",
      "[0.3 1.3 1.8]\n",
      "------------------------------------\n"
     ]
    }
   ],
   "source": [
    "for col in numericas:\n",
    "    print(f\"Los cuartiles de la columna {col} es: \\n\")\n",
    "    print(np.percentile(df[col], [25, 50, 75]))\n",
    "    print(\"------------------------------------\")"
   ]
  },
  {
   "cell_type": "markdown",
   "metadata": {},
   "source": [
    "- **Varianza**: es una medida de dispersión que representa la variabilidad de una serie de datos respecto a su media.\n"
   ]
  },
  {
   "cell_type": "code",
   "execution_count": 8,
   "metadata": {},
   "outputs": [
    {
     "name": "stdout",
     "output_type": "stream",
     "text": [
      "La varianza de la columna sepal_length es: \n",
      "\n",
      "0.6856935123042507\n",
      "------------------------------------\n",
      "La varianza de la columna sepal_width es: \n",
      "\n",
      "0.189979418344519\n",
      "------------------------------------\n",
      "La varianza de la columna petal_length es: \n",
      "\n",
      "3.116277852348993\n",
      "------------------------------------\n",
      "La varianza de la columna petal_width es: \n",
      "\n",
      "0.5810062639821029\n",
      "------------------------------------\n"
     ]
    }
   ],
   "source": [
    "for col in numericas:\n",
    "    print(f\"La varianza de la columna {col} es: \\n\")\n",
    "    print(df[col].var())\n",
    "    print(\"------------------------------------\")"
   ]
  },
  {
   "cell_type": "markdown",
   "metadata": {},
   "source": [
    "- **Covarianza**: mide la relación entre dos variables."
   ]
  },
  {
   "cell_type": "code",
   "execution_count": null,
   "metadata": {},
   "outputs": [
    {
     "data": {
      "text/html": [
       "<div>\n",
       "<style scoped>\n",
       "    .dataframe tbody tr th:only-of-type {\n",
       "        vertical-align: middle;\n",
       "    }\n",
       "\n",
       "    .dataframe tbody tr th {\n",
       "        vertical-align: top;\n",
       "    }\n",
       "\n",
       "    .dataframe thead th {\n",
       "        text-align: right;\n",
       "    }\n",
       "</style>\n",
       "<table border=\"1\" class=\"dataframe\">\n",
       "  <thead>\n",
       "    <tr style=\"text-align: right;\">\n",
       "      <th></th>\n",
       "      <th>sepal_length</th>\n",
       "      <th>sepal_width</th>\n",
       "      <th>petal_length</th>\n",
       "      <th>petal_width</th>\n",
       "    </tr>\n",
       "  </thead>\n",
       "  <tbody>\n",
       "    <tr>\n",
       "      <th>sepal_length</th>\n",
       "      <td>0.685694</td>\n",
       "      <td>-0.042434</td>\n",
       "      <td>1.274315</td>\n",
       "      <td>0.516271</td>\n",
       "    </tr>\n",
       "    <tr>\n",
       "      <th>sepal_width</th>\n",
       "      <td>-0.042434</td>\n",
       "      <td>0.189979</td>\n",
       "      <td>-0.329656</td>\n",
       "      <td>-0.121639</td>\n",
       "    </tr>\n",
       "    <tr>\n",
       "      <th>petal_length</th>\n",
       "      <td>1.274315</td>\n",
       "      <td>-0.329656</td>\n",
       "      <td>3.116278</td>\n",
       "      <td>1.295609</td>\n",
       "    </tr>\n",
       "    <tr>\n",
       "      <th>petal_width</th>\n",
       "      <td>0.516271</td>\n",
       "      <td>-0.121639</td>\n",
       "      <td>1.295609</td>\n",
       "      <td>0.581006</td>\n",
       "    </tr>\n",
       "  </tbody>\n",
       "</table>\n",
       "</div>"
      ],
      "text/plain": [
       "              sepal_length  sepal_width  petal_length  petal_width\n",
       "sepal_length      0.685694    -0.042434      1.274315     0.516271\n",
       "sepal_width      -0.042434     0.189979     -0.329656    -0.121639\n",
       "petal_length      1.274315    -0.329656      3.116278     1.295609\n",
       "petal_width       0.516271    -0.121639      1.295609     0.581006"
      ]
     },
     "execution_count": 11,
     "metadata": {},
     "output_type": "execute_result"
    }
   ],
   "source": [
    "df.cov()"
   ]
  },
  {
   "cell_type": "markdown",
   "metadata": {},
   "source": [
    "- **Correlación**: determina la relación o dependencia que existe entre las dos variables. Es decir, determina si los cambios en una de las variables influyen en los cambios de la otra. En caso de que suceda, diremos que las variables están correlacionadas o que hay correlación entre ellas.\n",
    "\n",
    "    Hay tres tipos principales de correlación: \n",
    "    \n",
    "    - Pearson\n",
    "    \n",
    "    - Spearman\n",
    "    \n",
    "    - Kendall"
   ]
  },
  {
   "cell_type": "code",
   "execution_count": null,
   "metadata": {},
   "outputs": [
    {
     "data": {
      "text/html": [
       "<div>\n",
       "<style scoped>\n",
       "    .dataframe tbody tr th:only-of-type {\n",
       "        vertical-align: middle;\n",
       "    }\n",
       "\n",
       "    .dataframe tbody tr th {\n",
       "        vertical-align: top;\n",
       "    }\n",
       "\n",
       "    .dataframe thead th {\n",
       "        text-align: right;\n",
       "    }\n",
       "</style>\n",
       "<table border=\"1\" class=\"dataframe\">\n",
       "  <thead>\n",
       "    <tr style=\"text-align: right;\">\n",
       "      <th></th>\n",
       "      <th>sepal_length</th>\n",
       "      <th>sepal_width</th>\n",
       "      <th>petal_length</th>\n",
       "      <th>petal_width</th>\n",
       "    </tr>\n",
       "  </thead>\n",
       "  <tbody>\n",
       "    <tr>\n",
       "      <th>sepal_length</th>\n",
       "      <td>1.000000</td>\n",
       "      <td>-0.117570</td>\n",
       "      <td>0.871754</td>\n",
       "      <td>0.817941</td>\n",
       "    </tr>\n",
       "    <tr>\n",
       "      <th>sepal_width</th>\n",
       "      <td>-0.117570</td>\n",
       "      <td>1.000000</td>\n",
       "      <td>-0.428440</td>\n",
       "      <td>-0.366126</td>\n",
       "    </tr>\n",
       "    <tr>\n",
       "      <th>petal_length</th>\n",
       "      <td>0.871754</td>\n",
       "      <td>-0.428440</td>\n",
       "      <td>1.000000</td>\n",
       "      <td>0.962865</td>\n",
       "    </tr>\n",
       "    <tr>\n",
       "      <th>petal_width</th>\n",
       "      <td>0.817941</td>\n",
       "      <td>-0.366126</td>\n",
       "      <td>0.962865</td>\n",
       "      <td>1.000000</td>\n",
       "    </tr>\n",
       "  </tbody>\n",
       "</table>\n",
       "</div>"
      ],
      "text/plain": [
       "              sepal_length  sepal_width  petal_length  petal_width\n",
       "sepal_length      1.000000    -0.117570      0.871754     0.817941\n",
       "sepal_width      -0.117570     1.000000     -0.428440    -0.366126\n",
       "petal_length      0.871754    -0.428440      1.000000     0.962865\n",
       "petal_width       0.817941    -0.366126      0.962865     1.000000"
      ]
     },
     "execution_count": 12,
     "metadata": {},
     "output_type": "execute_result"
    }
   ],
   "source": [
    "# por defecto usa la correlación de Pearson\n",
    "\n",
    "df.corr()"
   ]
  },
  {
   "cell_type": "code",
   "execution_count": null,
   "metadata": {},
   "outputs": [
    {
     "data": {
      "text/html": [
       "<div>\n",
       "<style scoped>\n",
       "    .dataframe tbody tr th:only-of-type {\n",
       "        vertical-align: middle;\n",
       "    }\n",
       "\n",
       "    .dataframe tbody tr th {\n",
       "        vertical-align: top;\n",
       "    }\n",
       "\n",
       "    .dataframe thead th {\n",
       "        text-align: right;\n",
       "    }\n",
       "</style>\n",
       "<table border=\"1\" class=\"dataframe\">\n",
       "  <thead>\n",
       "    <tr style=\"text-align: right;\">\n",
       "      <th></th>\n",
       "      <th>sepal_length</th>\n",
       "      <th>sepal_width</th>\n",
       "      <th>petal_length</th>\n",
       "      <th>petal_width</th>\n",
       "    </tr>\n",
       "  </thead>\n",
       "  <tbody>\n",
       "    <tr>\n",
       "      <th>sepal_length</th>\n",
       "      <td>1.000000</td>\n",
       "      <td>-0.166778</td>\n",
       "      <td>0.881898</td>\n",
       "      <td>0.834289</td>\n",
       "    </tr>\n",
       "    <tr>\n",
       "      <th>sepal_width</th>\n",
       "      <td>-0.166778</td>\n",
       "      <td>1.000000</td>\n",
       "      <td>-0.309635</td>\n",
       "      <td>-0.289032</td>\n",
       "    </tr>\n",
       "    <tr>\n",
       "      <th>petal_length</th>\n",
       "      <td>0.881898</td>\n",
       "      <td>-0.309635</td>\n",
       "      <td>1.000000</td>\n",
       "      <td>0.937667</td>\n",
       "    </tr>\n",
       "    <tr>\n",
       "      <th>petal_width</th>\n",
       "      <td>0.834289</td>\n",
       "      <td>-0.289032</td>\n",
       "      <td>0.937667</td>\n",
       "      <td>1.000000</td>\n",
       "    </tr>\n",
       "  </tbody>\n",
       "</table>\n",
       "</div>"
      ],
      "text/plain": [
       "              sepal_length  sepal_width  petal_length  petal_width\n",
       "sepal_length      1.000000    -0.166778      0.881898     0.834289\n",
       "sepal_width      -0.166778     1.000000     -0.309635    -0.289032\n",
       "petal_length      0.881898    -0.309635      1.000000     0.937667\n",
       "petal_width       0.834289    -0.289032      0.937667     1.000000"
      ]
     },
     "execution_count": 13,
     "metadata": {},
     "output_type": "execute_result"
    }
   ],
   "source": [
    "# si queremos especificar otro tipo de correlación usaremos el método \"method\"\n",
    "\n",
    "df.corr(method = \"spearman\")"
   ]
  },
  {
   "cell_type": "markdown",
   "metadata": {},
   "source": [
    "# Tipos de variables"
   ]
  },
  {
   "cell_type": "markdown",
   "metadata": {},
   "source": [
    "- **Variables cuantitativas**: son aquellas variables definidas con un valor numérico. Por ejemplo, variables tales como el peso (62 kg, 80 kg), la altura (1,72 cm, 1,85 cm) o la cantidad de miembros en una familia (2, 3 ó 4), son \n",
    "variables cuantitativas. Pueden ser:\n",
    "\n",
    "\n",
    "    - Discretas: son variables cuyos valores se encuentran separadas en escalas, es decir que no poseen valores entre ellas, sino que el resultado comprende un valor exacto. Por ejemplo, miembros en una familia (2,3,4).\n",
    "\n",
    "    - Continuas: son variables que pueden recibir un valor de cualquier intervalo o medición, es decir que puede haber otros valores en medio de dos exactos. Generalmente estos son representados por valores decimales, por lo cual la cifra será mucho más específica. Por ejemplo, peso (62 kg, 80 kg) o altura (1,72 cm, 1,85 cm).\n",
    "\n",
    "\n"
   ]
  },
  {
   "cell_type": "markdown",
   "metadata": {},
   "source": [
    "- **Variables cualitativas**: son variables que describen las cualidades, circunstancias o características de un objeto o persona, sin hacer uso de números. De esta manera, las variables cualitativas permiten expresar una característica, atributo, cualidad o categoría no númerica. Por ejemplo, el sexo de una persona es una variable cualitativa, ya que es masculino o femenino. Nos podemos encontrar tres tipos:\n",
    "\n",
    "\n",
    "    - Nominal: son variables que no tienen algún tipo de orden. Por ejemplo, son variables nominales los colores: negro, azul, rojo, amarillo, naranja, etc.\n",
    "\n",
    "    - Ordinal: también conocida como variable cuasicuantitativa, son variables representadas por una modalidad que no requiere números pero sí consta de un orden o un puesto.Por ejemplo, el nivel socioeconómico: alto, medio, bajo.\n",
    "\n",
    "    - Binaria: son variables que trabajan con valores específicos del tipo binario.Por ejemplo, el sexo de una persona será masculino o femenino.\n"
   ]
  },
  {
   "cell_type": "markdown",
   "metadata": {},
   "source": [
    "# Tipos de distribuciones"
   ]
  },
  {
   "cell_type": "markdown",
   "metadata": {},
   "source": [
    "- **Normal**: la distribución normal (en ocasiones llamada distribución gaussiana) es la distribución continua que se utiliza más comúnmente en estadística, es un modelo que aproxima el valor de una variable aleatoria a una situación ideal, dependiendo de la media y la desviación típica."
   ]
  },
  {
   "cell_type": "code",
   "execution_count": null,
   "metadata": {},
   "outputs": [
    {
     "data": {
      "image/png": "[encoded data removed]",
      "text/plain": [
       "<Figure size 432x288 with 1 Axes>"
      ]
     },
     "metadata": {
      "needs_background": "light"
     },
     "output_type": "display_data"
    }
   ],
   "source": [
    "mu, sigma = 0, 0.1 # mean and standard deviation\n",
    "normal = np.random.normal(mu, sigma, 1000)\n",
    "plt.hist(normal, bins = 20, color = \"cadetblue\");"
   ]
  },
  {
   "cell_type": "markdown",
   "metadata": {},
   "source": [
    "- **Uniforme**: la distribución uniforme describe el comportamiento de una variable discreta que puede tomar n valores distintos con la misma probabilidad cada uno de ellos. \n"
   ]
  },
  {
   "cell_type": "code",
   "execution_count": null,
   "metadata": {},
   "outputs": [
    {
     "data": {
      "image/png": "[encoded data removed]",
      "text/plain": [
       "<Figure size 432x288 with 1 Axes>"
      ]
     },
     "metadata": {
      "needs_background": "light"
     },
     "output_type": "display_data"
    }
   ],
   "source": [
    "uniforme = np.random.uniform(-1,0,10000)\n",
    "plt.hist(uniforme, bins = 20, color = \"cadetblue\");"
   ]
  },
  {
   "cell_type": "markdown",
   "metadata": {},
   "source": [
    "- **Binomial**: la distribución binomial, es una distribución de probabilidad discreta que describe el número de éxitos al realizar n experimentos o ensayos de Bernoulli independientes entre sí. "
   ]
  },
  {
   "cell_type": "code",
   "execution_count": null,
   "metadata": {},
   "outputs": [
    {
     "data": {
      "image/png": "[encoded data removed]",
      "text/plain": [
       "<Figure size 432x288 with 1 Axes>"
      ]
     },
     "metadata": {
      "needs_background": "light"
     },
     "output_type": "display_data"
    }
   ],
   "source": [
    "n, p = 10, 0.7 \n",
    "binomial = np.random.binomial(n, p, 1000)\n",
    "plt.hist(binomial, bins = 20, color = \"cadetblue\");"
   ]
  },
  {
   "cell_type": "markdown",
   "metadata": {},
   "source": [
    "- **Poisson**: la distribución de Poisson es una distribución de probabilidad discreta que modeliza la frecuencia de eventos determinados durante un intervalo de tiempo fijado a partir de la frecuencia media de aparición de dichos eventos."
   ]
  },
  {
   "cell_type": "code",
   "execution_count": null,
   "metadata": {},
   "outputs": [
    {
     "data": {
      "image/png": "[encoded data removed]",
      "text/plain": [
       "<Figure size 432x288 with 1 Axes>"
      ]
     },
     "metadata": {
      "needs_background": "light"
     },
     "output_type": "display_data"
    }
   ],
   "source": [
    "poisson = np.random.poisson(5, 10000)\n",
    "plt.hist(poisson, bins = 20, color = \"cadetblue\");"
   ]
  },
  {
   "cell_type": "markdown",
   "metadata": {},
   "source": [
    "- **Exponencial**: la distribución exponencial es una distribución continua que se utiliza para modelar tiempos de espera para la ocurrencia de un cierto evento.\n"
   ]
  },
  {
   "cell_type": "code",
   "execution_count": null,
   "metadata": {},
   "outputs": [
    {
     "data": {
      "image/png": "[encoded data removed]",
      "text/plain": [
       "<Figure size 432x288 with 1 Axes>"
      ]
     },
     "metadata": {
      "needs_background": "light"
     },
     "output_type": "display_data"
    }
   ],
   "source": [
    "exponencial = np.random.exponential(3.45, 10000)\n",
    "plt.hist(exponencial, bins = 20, color = \"cadetblue\");"
   ]
  },
  {
   "cell_type": "markdown",
   "metadata": {},
   "source": [
    "# Tipos de variables \n",
    "\n",
    "\n",
    "## Variables numericas\n",
    "Las variables numéricas pueden ser continuas ( como la altura, el peso o la amplitud de onda ) o discretas ( numero de alumnos en una clase, contenedores en un barco).\n",
    "\n",
    "⚠️ nota: Puede ser necesario discretizar las variables numéricas para que sean más fáciles de manejar en los modelos de Machine Learning. La discretización implica dividir una variable numérica en categorías discretas o intervalos, lo que puede ayudar a reducir la complejidad del modelo y mejorar su capacidad predictiva. \n",
    "\n",
    "\n",
    "## Variables categóricas\n",
    "Las variables cualitativas son aquellas que hacen referencia a características o cualidades que no pueden ser medidas con números. Por ejemplo, el sexo de una persona es una variable cualitativa, ya que es masculino o femenino. \n",
    "\n",
    "Algunas de las caracteríticas de este tipo de variables son: \n",
    "\n",
    "- No se pueden medir numéricamente\n",
    "\n",
    "\n",
    "- No otorga datos específicos y a a veces tampoco un orden\n",
    "\n",
    "\n",
    "- Especifica una condición, cualidad o característica\n",
    "\n",
    "\n",
    "\n",
    "Podemos encontrar tres tipos de variables cualitativas:\n",
    "\n",
    "- `Ordinaria`: la variable cualitativa ordinaria, también conocida como variable cuasicuantitativa, es representada por una modalidad que no requiere números pero sí consta de un orden o un puesto.\n",
    "\n",
    "    Por ejemplo, el nivel socioeconómico: alto, medio, bajo.\n",
    "\n",
    "\n",
    "- `Nominal`: variable que no es representada por números ni tiene algún tipo de orden, y por lo tanto es matemáticamente menos precisa.\n",
    "\n",
    "    Por ejemplo, son variables nominales los colores: negro, azul, rojo, amarillo, naranja, etc.\n",
    "\n",
    "\n",
    "- `Binaria`: la variable cualitativa binaria trabaja con valores específicos del tipo binario.\n",
    "\n",
    "    Por ejemplo, el sexo de una persona será masculino o femenino.\n",
    "\n"
   ]
  },
  {
   "cell_type": "markdown",
   "metadata": {},
   "source": [
    "# Encoding\n",
    "### ¿Por qué debemos codificar las variables categóricas?\n",
    "\n",
    "Codificamos los datos categóricos a valores numéricos porque gran parte de los algoritmos de modelados (*machine learning* no pueden ejecutarse y procesar datos si éstos no son numéricos. Por lo tanto, los analistas de datos necesitan tener herramientas a su disposición para transformar colores como el rojo, el amarillo y el azul en números como el 1, el 2 y el 3 para que tengan lugar todas las matemáticas de nuestros modelos. \n",
    "\n",
    "## Tipos de  codificación\n",
    "\n",
    "Ahora que sabemos cómo son los datos categóricos , hemos visto algunos ejemplos y lo importante que puede ser codificarlos, examinaremos los métodos comunes para convertir nuestros datos categóricos en datos numéricos. Estos métodos son: \n",
    "\n",
    "- **One-Hot Encoding**: lo usaremos cuando nuestras variables no tengan orden\n",
    "\n",
    "\n",
    "- **get_dummies**: lo usaremos cuando nuestras variables no tengan orden\n",
    "\n",
    "\n",
    "- **Label-Encoding**: lo usaremos cuando nuestras variables tengan orden\n",
    "\n",
    "\n",
    "- **map**: lo usaremos cuando nuestras variables tengan orden\n",
    "\n",
    "\n",
    "- **Ordinal-Encoding**: lo usaremos cuando nuestras variables tengan orden"
   ]
  },
  {
   "cell_type": "markdown",
   "metadata": {},
   "source": [
    "# Estandarizacion Vs Normalizacion\n",
    "### ¿ Por qué normalizar o estandarizar los datos? \n",
    "\n",
    "\n",
    "Principlamente hay dos motivos: \n",
    "\n",
    "\n",
    "1. Supongamos que tenemos un dataframe que contiene dos variables: \n",
    "\n",
    "    - El tiempo de viaje y \n",
    "\n",
    "    - La distancia recorrida. \n",
    "\n",
    "    El tiempo se mide en horas (por ejemplo, 5, 10, 25 horas) y la distancia en millas (por ejemplo, 500, 800, 1200 kilometros). \n",
    "\n",
    "   Problemas que nos encontramos: \n",
    "\n",
    "    - Un problema es que estas dos variables se miden en dos unidades diferentes: una en horas y otra en kilometros. \n",
    "    -  La distribución de los datos, es bastante diferente en estas dos variables (tanto dentro de las variables como entre ellas). Una va de 5 -25 y la otra de 500-1200. \n",
    "    \n",
    "    > El objetivo es transformar los datos de manera que no tengan dimensiones y/o tengan distribuciones similares. La normalización es un paso esencial en el preprocesamiento de datos en cualquier aplicación de *machine learning* y ajuste de modelos.\n",
    "\n",
    "2. En el caso de que estemos haciendo un modelo de regresión, nuestra variable respuesta, la que vamos a predecir debe seguir una distribución normal. \n"
   ]
  },
  {
   "cell_type": "markdown",
   "metadata": {},
   "source": [
    "## Estandarizacion\n",
    "Estandarizar generalmente significa cambiar los valores de nuestras columnas de manera que la desviación estándar de la distribución sea igual a uno y la media igual a 0. \n",
    "\n",
    "$$Z =  \\frac{X - µ}{Ω}$$\n",
    "\n",
    "Donde:\n",
    "\n",
    "- `X`: es el valor que queremos normalizar.\n",
    "\n",
    "\n",
    "- `µ`: es la media de todos los valores que queremos normalizar.\n",
    "\n",
    "\n",
    "- `Ω`: es la desviación estandar de los valores que queremos normalizar."
   ]
  },
  {
   "cell_type": "markdown",
   "metadata": {},
   "source": [
    "## Normalización \n",
    "\n",
    "A veces nos podemos encontrar que nuestras variables estan medidas en diferentes escalas, lo que hace que la comparación entre ellas sea complicada o que incluso no tengan una distribución normal, es decir, la campana de gaus que estamos más acostumbradas a ver. \n",
    "\n",
    "Para poder hacer esa comparación aplicaremos la `normalización` a nuestros datos para poder compararlas. Basicamente, la normalización lo que va a hacer es poner todas estas variables que están en escalas diferentes en un una escala común. Es decir: \n",
    "\n",
    "> Es el proceso de reescalar los valores entre [0-1]\n",
    ">\n",
    "> Usaremos este tipo de aproximación cuando no sepamos como es la distribución de nuestros datos o NO sea gaussiana. \n",
    "\n",
    "La `normalización` es la transformación de escala de la distribución de una variable con el objetivo de poder hacer comparaciones respecto a conjuntos de elementos y a la media.\n"
   ]
  },
  {
   "cell_type": "markdown",
   "metadata": {},
   "source": [
    "# Tipos de aprendizajes(*machine learning*)\n"
   ]
  },
  {
   "cell_type": "markdown",
   "metadata": {},
   "source": [
    "- **Aprendizaje supervisado**: En los algoritmos de aprendizaje supervisado se genera un modelo predictivo, basado en datos de entrada y salida. La palabra clave “supervisado” viene de la idea de tener un conjunto de datos previamente etiquetado y clasificado, es decir, tener un conjunto de muestra, el cual ya se sabe a qué grupo, valor o categoría pertenecen los ejemplos. \n",
    "\n",
    "\n",
    "- **Apendizaje no supervisado**: Los algoritmos de Aprendizaje no Supervisados infieren patrones de un conjunto de datos sin referencia a resultados conocidos o etiquetados. A diferencia del Aprendizaje Supervisado, los métodos de Aprendizaje no Supervisado no se pueden aplicar directamente a un problema de regresión o clasificación porque no tiene idea de cuáles pueden ser los valores de los datos de salida.\n"
   ]
  },
  {
   "cell_type": "markdown",
   "metadata": {},
   "source": [
    "# Tipos de modelos"
   ]
  },
  {
   "cell_type": "markdown",
   "metadata": {},
   "source": [
    "\n",
    "- **Modelo de regresión***: Cuando usamos regresión, el resultado es un número. Es decir, el resultado de la técnica de machine learning que estemos usando será un valor numérico, dentro de un conjunto infinito de posibles resultados.\n",
    "\n",
    "    Algunos ejemplos de regresión:\n",
    "\n",
    "    - Predecir por cuánto se va a vender una propiedad inmobiliaria\n",
    "    - Predecir cuánto tiempo va a permanecer un empleado en una empresa\n",
    "    - Estimar cuánto tiempo va a tardar un vehículo en llegar a su destino\n",
    "    - Estimar cuántos productos se van a vender\n",
    "    \n",
    "    Técnicas de Machine Learning para Regresión\n",
    "\n",
    "    - Regresión lineal y regresión no lineal\n",
    "    - Decision trees\n",
    "    - Random forests\n",
    "    - redes neuronales deep learning\n",
    "\n",
    "\n",
    "\n",
    "- **Modelo de clasificación**: Cuando usamos clasificación, el resultado es una clase, entre un número limitado de clases. Con clases nos referimos a categorías arbitrarias según el tipo de problema.\n",
    "\n",
    "    Por ejemplo, si queremos detectar si un correo es spam o no, sólo hay 2 clases. Y el algoritmo de machine learning de clasificación, tras darle un correo electrónico, tiene que elegir a qué clase pertenece: spam o no-spam. Hay muchos más ejemplos, por supuesto:\n",
    "\n",
    "    - ¿comprará el cliente este producto? sí, no\n",
    "    - ¿tipo de tumor? maligno, benigno\n",
    "    - ¿subirá el índice bursátil? sí, no\n",
    "    - ¿es este comportamiento una anomalía? sí, no\n",
    "    - ¿nos devolverá este cliente un crédito? sí, no\n",
    "    - ¿qué deporte estás haciendo? tal y como lo detectan los relojes inteligentes caminar, correr, bicicleta, nadar\n",
    "    - ¿obtendrá una historia un número alto de visitas en un agregador de noticias? sí, no\n",
    "\n",
    "    Técnicas de Machine Learning para Clasificación\n",
    "\n",
    "    - regresión logística\n",
    "    - Decision trees\n",
    "    - Random forests\n",
    "    - redes neuronales y deep learning\n",
    "\n"
   ]
  },
  {
   "cell_type": "code",
   "execution_count": null,
   "metadata": {},
   "outputs": [],
   "source": []
  }
 ],
 "metadata": {
  "kernelspec": {
   "display_name": "Python 3",
   "language": "python",
   "name": "python3"
  },
  "language_info": {
   "codemirror_mode": {
    "name": "ipython",
    "version": 3
   },
   "file_extension": ".py",
   "mimetype": "text/x-python",
   "name": "python",
   "nbconvert_exporter": "python",
   "pygments_lexer": "ipython3",
   "version": "3.10.4"
  },
  "toc": {
   "base_numbering": 1,
   "nav_menu": {},
   "number_sections": true,
   "sideBar": true,
   "skip_h1_title": false,
   "title_cell": "Table of Contents",
   "title_sidebar": "Contents",
   "toc_cell": true,
   "toc_position": {},
   "toc_section_display": true,
   "toc_window_display": false
  }
 },
 "nbformat": 4,
 "nbformat_minor": 2
}
